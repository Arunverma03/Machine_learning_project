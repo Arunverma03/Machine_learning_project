{
  "nbformat": 4,
  "nbformat_minor": 0,
  "metadata": {
    "colab": {
      "provenance": []
    },
    "kernelspec": {
      "name": "python3",
      "display_name": "Python 3"
    },
    "language_info": {
      "name": "python"
    }
  },
  "cells": [
    {
      "cell_type": "code",
      "execution_count": 4,
      "metadata": {
        "id": "6MQeueZ7O50c"
      },
      "outputs": [],
      "source": [
        "import pandas as pd\n",
        "import numpy as np\n",
        "from sklearn.preprocessing import LabelEncoder\n",
        "from sklearn.model_selection import train_test_split\n",
        "from sklearn.ensemble import RandomForestClassifier\n",
        "import random\n"
      ]
    },
    {
      "cell_type": "code",
      "source": [
        "# Load dataset\n",
        "file_path = '/content/fully_mapped_crime_hotspot_data.csv'\n",
        "df = pd.read_csv(file_path)\n"
      ],
      "metadata": {
        "id": "QVL_dJs0O6jk"
      },
      "execution_count": 5,
      "outputs": []
    },
    {
      "cell_type": "code",
      "source": [
        "# Display dataset structure\n",
        "def explore_data():\n",
        "    print(\"Dataset Structure:\")\n",
        "    print(df.head())\n",
        "    print(\"\\nColumns:\", df.columns)\n",
        "\n",
        "explore_data()"
      ],
      "metadata": {
        "id": "9xvkR-huO9q3",
        "colab": {
          "base_uri": "https://localhost:8080/"
        },
        "outputId": "844b955a-ba80-4171-eed0-688abfcacf74"
      },
      "execution_count": 6,
      "outputs": [
        {
          "output_type": "stream",
          "name": "stdout",
          "text": [
            "Dataset Structure:\n",
            "       location          crime_type      time        date  \\\n",
            "0  LODHI COLONY            gangrape  22:31:00  2020-06-15   \n",
            "1   MANDIR MARG  sexual harassement  15:47:00  2019-09-28   \n",
            "2   TUGLAK ROAD            gangrape  01:34:00  2020-06-19   \n",
            "3  PANDAV NAGAR               theft  12:32:00  2019-10-28   \n",
            "4      GHAZIPUR             robbery  15:47:00  2019-08-31   \n",
            "\n",
            "  investigation_status case_number             comments  latitude  longitude  \\\n",
            "0                 Open       C8160                    -   28.5933    77.2273   \n",
            "1  Under Investigation       C8906                    -   28.6325    77.2080   \n",
            "2                  NaN         NaN  Missing information   28.6010    77.2177   \n",
            "3                 Open       C1009                    -   28.6329    77.2878   \n",
            "4               Closed         NaN  Missing information   28.6228    77.3121   \n",
            "\n",
            "   crime_category  hour day_of_week      month  \n",
            "0  Sexual Offense    22      Monday       June  \n",
            "1  Sexual Offense    15    Saturday  September  \n",
            "2  Sexual Offense     1      Friday       June  \n",
            "3  Property Crime    12      Monday    October  \n",
            "4   Violent Crime    15    Saturday     August  \n",
            "\n",
            "Columns: Index(['location', 'crime_type', 'time', 'date', 'investigation_status',\n",
            "       'case_number', 'comments', 'latitude', 'longitude', 'crime_category',\n",
            "       'hour', 'day_of_week', 'month'],\n",
            "      dtype='object')\n"
          ]
        }
      ]
    },
    {
      "cell_type": "code",
      "source": [
        "# Preprocessing\n",
        "label_encoders = {}\n",
        "for col in df.select_dtypes(include=['object']).columns:\n",
        "    le = LabelEncoder()\n",
        "    df[col] = le.fit_transform(df[col].astype(str))\n",
        "    label_encoders[col] = le\n"
      ],
      "metadata": {
        "id": "9wb-9V2_PMH0"
      },
      "execution_count": 7,
      "outputs": []
    },
    {
      "cell_type": "code",
      "source": [
        "# Feature selection (modify as needed)\n",
        "X = df.iloc[:, :-1]  # All columns except last\n",
        "y = df.iloc[:, -1]   # Target column\n",
        "\n",
        "X_train, X_test, y_train, y_test = train_test_split(X, y, test_size=0.2, random_state=42)\n"
      ],
      "metadata": {
        "id": "nw21DHn1POzY"
      },
      "execution_count": 8,
      "outputs": []
    },
    {
      "cell_type": "code",
      "source": [
        "# Train a simple model\n",
        "model = RandomForestClassifier(n_estimators=100, random_state=42)\n",
        "model.fit(X_train, y_train)\n",
        "\n",
        "def get_crime_statistics(city=None):\n",
        "    if city and 'City' in df.columns:\n",
        "        city_data = df[df['City'] == city]\n",
        "        return {\n",
        "            \"total_records\": len(city_data),\n",
        "            \"most_common_crime\": city_data['Crime_Type'].mode()[0] if 'Crime_Type' in df.columns else 'N/A'\n",
        "        }\n",
        "    return {\n",
        "        \"total_records\": len(df),\n",
        "        \"crime_types\": df['Crime_Type'].nunique() if 'Crime_Type' in df.columns else 'N/A',\n",
        "        \"most_common_crime\": df['Crime_Type'].mode()[0] if 'Crime_Type' in df.columns else 'N/A'\n",
        "    }\n",
        "\n",
        "def get_crime_trends():\n",
        "    if 'Year' in df.columns:\n",
        "        trends = df.groupby('Year').size()\n",
        "        return trends.to_dict()\n",
        "    return \"No year data available.\"\n",
        "\n",
        "def chat_bot():\n",
        "    print(\"Crime Chatbot Activated. Ask me a question!\")\n",
        "    while True:\n",
        "        user_input = input(\"You: \")\n",
        "        if user_input.lower() in ['exit', 'quit']:\n",
        "            print(\"Chatbot: Goodbye!\")\n",
        "            break\n",
        "        elif \"crime rate\" in user_input.lower():\n",
        "            city = input(\"Enter your city: \")\n",
        "            stats = get_crime_statistics(city)\n",
        "            print(f\"Chatbot: In {city}, Total Crime Records: {stats['total_records']}, Most Common Crime: {stats['most_common_crime']}\")\n",
        "        elif \"crime trend\" in user_input.lower():\n",
        "            trends = get_crime_trends()\n",
        "            print(f\"Chatbot: Crime trends over the years: {trends}\")\n",
        "        elif \"cybercrime\" in user_input.lower():\n",
        "            print(\"Chatbot: Common cybercrimes include phishing, identity theft, ransomware, and hacking.\")\n",
        "        else:\n",
        "            print(\"Chatbot: Sorry, I don't have an answer for that. Try asking about crime rates, trends, or cybercrimes.\")\n",
        "\n",
        "# Run chatbot\n",
        "chat_bot()"
      ],
      "metadata": {
        "id": "DFmxkUz2PRDe",
        "colab": {
          "base_uri": "https://localhost:8080/"
        },
        "outputId": "b8ee20e0-4d54-44c6-c020-3eb547114b8f"
      },
      "execution_count": null,
      "outputs": [
        {
          "output_type": "stream",
          "name": "stdout",
          "text": [
            "Crime Chatbot Activated. Ask me a question!\n",
            "You: WHAT ARE THE CURRENT CRIME RATE IN MY CITY\n",
            "Enter your city: DELHI\n",
            "Chatbot: In DELHI, Total Crime Records: 3500, Most Common Crime: N/A\n",
            "You: CYBERCRIME IN DELHI\n",
            "Chatbot: Common cybercrimes include phishing, identity theft, ransomware, and hacking.\n"
          ]
        }
      ]
    },
    {
      "cell_type": "code",
      "source": [],
      "metadata": {
        "id": "R6vpcF_lQPCo"
      },
      "execution_count": null,
      "outputs": []
    }
  ]
}